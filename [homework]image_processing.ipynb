{
 "cells": [
  {
   "cell_type": "markdown",
   "metadata": {},
   "source": [
    "<img src=\"img/verkhushka.png\" alt=\"Drawing\" style=\"width: 700px;\"/>"
   ]
  },
  {
   "cell_type": "markdown",
   "metadata": {},
   "source": [
    "# Домашняя работа #1\n",
    "\n",
    "[Форма](https://forms.gle/MvXza7e4Sdb3sEWW7) для отправки решения.\n",
    "\n",
    "### ДЕДЛАЙНЫ:\n",
    "\n",
    "Задача №1 - 10 янв 23:59\n",
    "\n",
    "Задача №2 - 10 янв 23:59\n",
    "\n",
    "Укажите в названии файла: \n",
    "1. имя и фамилия\n",
    "2. номер домашки\n",
    "3. номер задания\n",
    "\n",
    "(NAME_LES_TASK.ipynb)"
   ]
  },
  {
   "cell_type": "markdown",
   "metadata": {},
   "source": [
    "### Задача №1 – Пробки в городе.\n",
    "\n",
    "Требуется написать программу, которая на вход принимает картинку, на которой схематически изображена машинка на дороге с $N$ полосами и препятствия на полосах. Соответствующие объекты обозначены цветами, которые сохраняются на всех изображениях. Результатом работы программы является номер полосы, на которую нужно перестроиться или сообщение о том, что перестраиваться не нужно.\n",
    "\n",
    "Примеры изображений:\n",
    "<table><tr>\n",
    "    <td> <img src=\"https://i.ibb.co/8z84sJG/image_00.jpg\" alt=\"Drawing\" style=\"width: 200px;\"/> </td>\n",
    "    <td> <img src=\"https://i.ibb.co/Z6m4XFz/image_01.jpg\" alt=\"Drawing\" style=\"width: 200px;\"/> </td>\n",
    "</tr></table>"
   ]
  },
  {
   "cell_type": "code",
   "execution_count": 1,
   "metadata": {},
   "outputs": [],
   "source": [
    "# Ваш код"
   ]
  },
  {
   "cell_type": "markdown",
   "metadata": {},
   "source": [
    "### Задача №2 – Ямы и дороги.\n",
    "\n",
    "Требуется написать программу, которая на вход принимает картинку, на которой схематически изображена машинка на дороге с ямами. Машина может передвигаться по пикселям: вверх, вниз, вправо, влево. При этом, она не может проехать по яме.\n",
    "\n",
    "Ваша задача - написать программу, которая *закрасит минимальное количество ям так, чтобы машина смогла проехать по дороге. Будем считать, что машина успешно проделала свой путь, если ее передние пиксели достигли края дороги. \n",
    "\n",
    "*Яма может быть закрашена частично.\n",
    "\n",
    "Нарисуйте полученное изображение с закрашенными участками ям.\n",
    "\n",
    "Примеры изображений:\n",
    "<table><tr>\n",
    "    <td> <img src=\"https://i.ibb.co/j3zrDhb/image_0.jpg\" alt=\"Drawing\" style=\"width: 50px;\"/> </td>\n",
    "    <td> <img src=\"https://i.ibb.co/zmKjSZ8/image_1.jpg\" alt=\"Drawing\" style=\"width: 50px;\"/> </td>\n",
    "</tr></table>"
   ]
  },
  {
   "cell_type": "code",
   "execution_count": null,
   "metadata": {},
   "outputs": [],
   "source": [
    "# Ваш код"
   ]
  }
 ],
 "metadata": {
  "kernelspec": {
   "display_name": "Python 3",
   "language": "python",
   "name": "python3"
  },
  "language_info": {
   "codemirror_mode": {
    "name": "ipython",
    "version": 3
   },
   "file_extension": ".py",
   "mimetype": "text/x-python",
   "name": "python",
   "nbconvert_exporter": "python",
   "pygments_lexer": "ipython3",
   "version": "3.6.9"
  }
 },
 "nbformat": 4,
 "nbformat_minor": 2
}
